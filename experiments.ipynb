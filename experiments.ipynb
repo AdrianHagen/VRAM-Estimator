{
 "cells": [
  {
   "cell_type": "code",
   "execution_count": 9,
   "metadata": {},
   "outputs": [
    {
     "name": "stdout",
     "output_type": "stream",
     "text": [
      "Estimated VRAM: 3.1771488189697266\n",
      "Actual VRAM: 0.0\n",
      "Diff: 3.1771488189697266\n"
     ]
    },
    {
     "data": {
      "text/plain": [
       "np.float64(3.1771488189697266)"
      ]
     },
     "execution_count": 9,
     "metadata": {},
     "output_type": "execute_result"
    }
   ],
   "source": [
    "import sys\n",
    "import os\n",
    "\n",
    "base_path = os.path.abspath(os.path.join(os.getcwd()))\n",
    "sys.path.append(base_path)\n",
    "\n",
    "from evaluate_estimator import evaluate_estimator\n",
    "from vram_estimator import estimate_vram_usage\n",
    "from optimizers import Optimizers\n",
    "\n",
    "evaluate_estimator(estimate_vram_usage, \"gpt2\", Optimizers.SGD)"
   ]
  }
 ],
 "metadata": {
  "kernelspec": {
   "display_name": ".venv",
   "language": "python",
   "name": "python3"
  },
  "language_info": {
   "codemirror_mode": {
    "name": "ipython",
    "version": 3
   },
   "file_extension": ".py",
   "mimetype": "text/x-python",
   "name": "python",
   "nbconvert_exporter": "python",
   "pygments_lexer": "ipython3",
   "version": "3.12.7"
  }
 },
 "nbformat": 4,
 "nbformat_minor": 2
}
